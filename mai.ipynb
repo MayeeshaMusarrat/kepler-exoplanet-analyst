{
 "cells": [
  {
   "cell_type": "code",
   "execution_count": 4,
   "id": "419b024b",
   "metadata": {},
   "outputs": [],
   "source": [
    "import pandas as pd\n",
    "\n",
    "df = pd.read_parquet('kepler_lc_features.parquet', engine='fastparquet')"
   ]
  },
  {
   "cell_type": "code",
   "execution_count": 5,
   "id": "8dd05717",
   "metadata": {},
   "outputs": [
    {
     "data": {
      "text/html": [
       "<div>\n",
       "<style scoped>\n",
       "    .dataframe tbody tr th:only-of-type {\n",
       "        vertical-align: middle;\n",
       "    }\n",
       "\n",
       "    .dataframe tbody tr th {\n",
       "        vertical-align: top;\n",
       "    }\n",
       "\n",
       "    .dataframe thead th {\n",
       "        text-align: right;\n",
       "    }\n",
       "</style>\n",
       "<table border=\"1\" class=\"dataframe\">\n",
       "  <thead>\n",
       "    <tr style=\"text-align: right;\">\n",
       "      <th></th>\n",
       "      <th>kepid</th>\n",
       "      <th>label</th>\n",
       "      <th>y</th>\n",
       "      <th>koi_period</th>\n",
       "      <th>koi_time0bk</th>\n",
       "      <th>koi_duration</th>\n",
       "      <th>koi_depth</th>\n",
       "      <th>koi_model_snr</th>\n",
       "    </tr>\n",
       "  </thead>\n",
       "  <tbody>\n",
       "    <tr>\n",
       "      <th>0</th>\n",
       "      <td>10002261</td>\n",
       "      <td>CANDIDATE</td>\n",
       "      <td>1</td>\n",
       "      <td>12.713794</td>\n",
       "      <td>175.072568</td>\n",
       "      <td>2.44093</td>\n",
       "      <td>36718.7</td>\n",
       "      <td>2981.3</td>\n",
       "    </tr>\n",
       "    <tr>\n",
       "      <th>1</th>\n",
       "      <td>10971674</td>\n",
       "      <td>CANDIDATE</td>\n",
       "      <td>1</td>\n",
       "      <td>2.380863</td>\n",
       "      <td>135.325212</td>\n",
       "      <td>4.20416</td>\n",
       "      <td>32634.0</td>\n",
       "      <td>2590.6</td>\n",
       "    </tr>\n",
       "    <tr>\n",
       "      <th>2</th>\n",
       "      <td>8112013</td>\n",
       "      <td>CANDIDATE</td>\n",
       "      <td>1</td>\n",
       "      <td>1.790518</td>\n",
       "      <td>132.938473</td>\n",
       "      <td>3.34624</td>\n",
       "      <td>61541.9</td>\n",
       "      <td>2493.3</td>\n",
       "    </tr>\n",
       "    <tr>\n",
       "      <th>3</th>\n",
       "      <td>10295951</td>\n",
       "      <td>CANDIDATE</td>\n",
       "      <td>1</td>\n",
       "      <td>6.810824</td>\n",
       "      <td>136.046670</td>\n",
       "      <td>7.98574</td>\n",
       "      <td>14446.8</td>\n",
       "      <td>1441.9</td>\n",
       "    </tr>\n",
       "    <tr>\n",
       "      <th>4</th>\n",
       "      <td>6842345</td>\n",
       "      <td>CANDIDATE</td>\n",
       "      <td>1</td>\n",
       "      <td>17.381622</td>\n",
       "      <td>142.406783</td>\n",
       "      <td>2.73456</td>\n",
       "      <td>59099.4</td>\n",
       "      <td>1149.7</td>\n",
       "    </tr>\n",
       "  </tbody>\n",
       "</table>\n",
       "</div>"
      ],
      "text/plain": [
       "      kepid      label  y  koi_period  koi_time0bk  koi_duration  koi_depth  \\\n",
       "0  10002261  CANDIDATE  1   12.713794   175.072568       2.44093    36718.7   \n",
       "1  10971674  CANDIDATE  1    2.380863   135.325212       4.20416    32634.0   \n",
       "2   8112013  CANDIDATE  1    1.790518   132.938473       3.34624    61541.9   \n",
       "3  10295951  CANDIDATE  1    6.810824   136.046670       7.98574    14446.8   \n",
       "4   6842345  CANDIDATE  1   17.381622   142.406783       2.73456    59099.4   \n",
       "\n",
       "   koi_model_snr  \n",
       "0         2981.3  \n",
       "1         2590.6  \n",
       "2         2493.3  \n",
       "3         1441.9  \n",
       "4         1149.7  "
      ]
     },
     "execution_count": 5,
     "metadata": {},
     "output_type": "execute_result"
    }
   ],
   "source": [
    "df.head()"
   ]
  },
  {
   "cell_type": "code",
   "execution_count": 12,
   "id": "398a9e2e",
   "metadata": {},
   "outputs": [
    {
     "name": "stdout",
     "output_type": "stream",
     "text": [
      "[[1.0000213  1.0000377  1.0000044  ... 1.000161   1.0000463  0.9999316 ]\n",
      " [0.9987583  0.9988522  0.999131   ... 0.9991862  0.99939924 0.99901944]\n",
      " [0.9968359  0.9971557  0.9970466  ... 0.99769676 0.99758565 0.9976143 ]\n",
      " ...\n",
      " [0.99567246 0.99626535 0.99676925 ... 0.99417365 0.9968587  0.99347967]\n",
      " [0.991564   0.99078125 0.99050534 ... 0.9921353  0.9915637  0.9911971 ]\n",
      " [0.8645955  0.8652993  0.8796851  ... 0.8635546  0.86543006 0.8682679 ]]\n"
     ]
    }
   ],
   "source": [
    "import numpy as np\n",
    "bundle = np.load(\"kepler_transit_windows.npz\")\n",
    "print(bundle[\"X\"])\n",
    "X_lc, y_lc = bundle[\"X\"], bundle[\"y\"]"
   ]
  }
 ],
 "metadata": {
  "kernelspec": {
   "display_name": "env",
   "language": "python",
   "name": "python3"
  },
  "language_info": {
   "codemirror_mode": {
    "name": "ipython",
    "version": 3
   },
   "file_extension": ".py",
   "mimetype": "text/x-python",
   "name": "python",
   "nbconvert_exporter": "python",
   "pygments_lexer": "ipython3",
   "version": "3.12.10"
  }
 },
 "nbformat": 4,
 "nbformat_minor": 5
}
